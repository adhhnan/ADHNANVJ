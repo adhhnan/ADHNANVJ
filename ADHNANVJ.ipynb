{
  "nbformat": 4,
  "nbformat_minor": 0,
  "metadata": {
    "colab": {
      "provenance": []
    },
    "kernelspec": {
      "name": "python3",
      "display_name": "Python 3"
    },
    "language_info": {
      "name": "python"
    }
  },
  "cells": [
    {
      "cell_type": "code",
      "source": [
        "#2  Write a Python program to convert Celsius to Fahrenheit using the formula F = (C * 9/5) + 32\n",
        "\n",
        "import math\n",
        "\n",
        "celsius = float(input(\"Enter the temperature in Celsius: \"))\n",
        "\n",
        "fahrenheit = (celsius * 9/5) + 32\n",
        "\n",
        "print(\"The temperature in Fahrenheit is:\", fahrenheit)"
      ],
      "metadata": {
        "colab": {
          "base_uri": "https://localhost:8080/"
        },
        "id": "WB3x29CD1PWv",
        "outputId": "af5ac184-b2bf-4fe1-b049-41a72b86f798"
      },
      "execution_count": null,
      "outputs": [
        {
          "output_type": "stream",
          "name": "stdout",
          "text": [
            "Enter the temperature in Celsius: 20\n",
            "The temperature in Fahrenheit is: 68.0\n"
          ]
        }
      ]
    },
    {
      "cell_type": "code",
      "source": [
        "#3 Write a Python program to find the quotient and remainder of two numbers using the division operator / and the modulo operator %\n",
        "\n",
        "\n",
        "a = int(input(\"Enter the first number: \"))\n",
        "b = int(input(\"Enter the second number: \"))\n",
        "\n",
        "quotient = a // b\n",
        "remainder = a % b\n",
        "\n",
        "print(\"The quotient is:\", quotient)\n",
        "print(\"The remainder is:\", remainder)"
      ],
      "metadata": {
        "colab": {
          "base_uri": "https://localhost:8080/"
        },
        "id": "tWiKUXux1Ye1",
        "outputId": "c6b4d554-ade1-4ad7-9a53-9413dd6595e1"
      },
      "execution_count": null,
      "outputs": [
        {
          "output_type": "stream",
          "name": "stdout",
          "text": [
            "Enter the first number: 2\n",
            "Enter the second number: 3\n",
            "The quotient is: 0\n",
            "The remainder is: 2\n"
          ]
        }
      ]
    },
    {
      "cell_type": "code",
      "source": [
        "#4 Write a Python program to check whether a given number is even or odd using the modulo operator %\n",
        "\n",
        "\n",
        "num = int(input(\"Enter a number: \"))\n",
        "\n",
        "if num % 2 == 0:\n",
        "    print(\"The number is even.\")\n",
        "else:\n",
        "    print(\"The number is odd.\")"
      ],
      "metadata": {
        "colab": {
          "base_uri": "https://localhost:8080/"
        },
        "id": "Sn6549jF1dQM",
        "outputId": "ff070850-44a1-46f9-a557-941ae7c55cfd"
      },
      "execution_count": null,
      "outputs": [
        {
          "output_type": "stream",
          "name": "stdout",
          "text": [
            "Enter a number: 3\n",
            "The number is odd.\n"
          ]
        }
      ]
    },
    {
      "cell_type": "code",
      "source": [
        "#5 Write a Python program to calculate the average of three numbers entered by the user\n",
        "\n",
        "\n",
        "num1 = float(input(\"Enter the first number: \"))\n",
        "num2 = float(input(\"Enter the second number: \"))\n",
        "num3 = float(input(\"Enter the third number: \"))\n",
        "\n",
        "avg = (num1 + num2 + num3) / 3\n",
        "\n",
        "print(\"The average of the three numbers is:\", avg)"
      ],
      "metadata": {
        "colab": {
          "base_uri": "https://localhost:8080/"
        },
        "id": "ZU5--tLa1ho_",
        "outputId": "4fe0f813-399c-4dc3-c634-8648f1168b5a"
      },
      "execution_count": null,
      "outputs": [
        {
          "output_type": "stream",
          "name": "stdout",
          "text": [
            "Enter the first number: 4\n",
            "Enter the second number: 4\n",
            "Enter the third number: 3\n",
            "The average of the three numbers is: 3.6666666666666665\n"
          ]
        }
      ]
    },
    {
      "cell_type": "code",
      "source": [
        "#6 Write a Python program to swap two variables without using a temporary variable\n",
        "\n",
        "x = 5\n",
        "y = 10\n",
        "\n",
        "x, y = y, x\n",
        "\n",
        "print(\"Value of x:\", x)\n",
        "print(\"Value of y:\", y)"
      ],
      "metadata": {
        "colab": {
          "base_uri": "https://localhost:8080/"
        },
        "id": "spnlryUE1hVZ",
        "outputId": "26ccb41c-19f1-40f0-99c3-a848e1a7c58a"
      },
      "execution_count": null,
      "outputs": [
        {
          "output_type": "stream",
          "name": "stdout",
          "text": [
            "Value of x: 10\n",
            "Value of y: 5\n"
          ]
        }
      ]
    },
    {
      "cell_type": "code",
      "source": [
        "#7 Write a Python program to calculate the area of a rectangle with given length and breadth\n",
        "\n",
        "length = 10\n",
        "breadth = 5\n",
        "\n",
        "area = length * breadth\n",
        "\n",
        "print(\"Area of the rectangle:\", area)"
      ],
      "metadata": {
        "colab": {
          "base_uri": "https://localhost:8080/"
        },
        "id": "YbYUtRhC1xFN",
        "outputId": "6820a30a-8194-4fe9-aeb1-f636acd899a0"
      },
      "execution_count": null,
      "outputs": [
        {
          "output_type": "stream",
          "name": "stdout",
          "text": [
            "Area of the rectangle: 50\n"
          ]
        }
      ]
    },
    {
      "cell_type": "code",
      "source": [
        "#8 Write a Python program to calculate the sum of the digits of a three-digit number\n",
        "\n",
        "\n",
        "num = int(input(\"Enter a three-digit number: \"))\n",
        "\n",
        "sum_of_digits = 0\n",
        "while num > 0:\n",
        "\n",
        "    digit = num % 10\n",
        "\n",
        "    sum_of_digits += digit\n",
        "\n",
        "    num //= 10\n",
        "\n",
        "print(\"The sum of the digits is:\", sum_of_digits)"
      ],
      "metadata": {
        "colab": {
          "base_uri": "https://localhost:8080/"
        },
        "id": "jLK6QmtT1zWL",
        "outputId": "faaa0429-18a1-4e89-a815-3bba336eb4fc"
      },
      "execution_count": null,
      "outputs": [
        {
          "output_type": "stream",
          "name": "stdout",
          "text": [
            "Enter a three-digit number: 567\n",
            "The sum of the digits is: 18\n"
          ]
        }
      ]
    },
    {
      "cell_type": "code",
      "source": [
        "#9 Write a Python program to calculate the sum of the digits of a three-digit number\n",
        "\n",
        "\n",
        "num = int(input(\"Enter a three-digit number: \"))\n",
        "\n",
        "sum_of_digits = 0\n",
        "while num > 0:\n",
        "\n",
        "    digit = num % 10\n",
        "\n",
        "    sum_of_digits += digit\n",
        "\n",
        "    num //= 10\n",
        "\n",
        "print(\"The sum of the digits is:\", sum_of_digits)"
      ],
      "metadata": {
        "colab": {
          "base_uri": "https://localhost:8080/"
        },
        "id": "2hcY0QaG17C4",
        "outputId": "c975a135-a13b-4023-f0b6-1b30677dd749"
      },
      "execution_count": null,
      "outputs": [
        {
          "output_type": "stream",
          "name": "stdout",
          "text": [
            "Enter a three-digit number: 456\n",
            "The sum of the digits is: 15\n"
          ]
        }
      ]
    },
    {
      "cell_type": "code",
      "source": [
        "# prompt:10 Write a Python program to find the maximum and minimum of two numbers entered by the user\n",
        "\n",
        "\n",
        "num1 = float(input(\"Enter the first number: \"))\n",
        "num2 = float(input(\"Enter the second number: \"))\n",
        "\n",
        "if num1 > num2:\n",
        "    maximum = num1\n",
        "    minimum = num2\n",
        "else:\n",
        "    maximum = num2\n",
        "    minimum = num1\n",
        "\n",
        "print(\"The maximum of the two numbers is:\", maximum)\n",
        "print(\"The minimum of the two numbers is:\", minimum)"
      ],
      "metadata": {
        "colab": {
          "base_uri": "https://localhost:8080/"
        },
        "id": "jYEf_yvK2AVe",
        "outputId": "803e064b-53db-4d2b-e082-f80dc8480013"
      },
      "execution_count": null,
      "outputs": [
        {
          "output_type": "stream",
          "name": "stdout",
          "text": [
            "Enter the first number: 4\n",
            "Enter the second number: 5\n",
            "The maximum of the two numbers is: 5.0\n",
            "The minimum of the two numbers is: 4.0\n"
          ]
        }
      ]
    },
    {
      "cell_type": "code",
      "execution_count": null,
      "metadata": {
        "colab": {
          "base_uri": "https://localhost:8080/"
        },
        "id": "k_CFh-3E1N24",
        "outputId": "1b7d348f-0703-4969-f7a2-2fe4983b1530"
      },
      "outputs": [
        {
          "output_type": "stream",
          "name": "stdout",
          "text": [
            "Area of the circle: 314.1592653589793\n"
          ]
        }
      ],
      "source": [
        "#1  Write a Python program to find the area of a circle with a given radius using the formula area = pi * r ** 2. Assume that pi is 3.14.\n",
        "\n",
        "import math\n",
        "\n",
        "radius = 10\n",
        "\n",
        "area = math.pi * radius ** 2\n",
        "\n",
        "print(\"Area of the circle:\", area)"
      ]
    }
  ]
}